{
 "cells": [
  {
   "cell_type": "code",
   "execution_count": 1,
   "metadata": {},
   "outputs": [],
   "source": [
    "from interop import py_interop_run_metrics, py_interop_run, py_interop_summary\n"
   ]
  },
  {
   "cell_type": "code",
   "execution_count": 35,
   "metadata": {},
   "outputs": [],
   "source": [
    "def parse_interop_data(run_folder):\n",
    "    \"\"\"\n",
    "    Parses summary statistics out of interops data using the Illumina interops package\n",
    "    \"\"\"\n",
    "\n",
    "    # make empty dict to store output\n",
    "    interop_dict = {}\n",
    "\n",
    "    \n",
    "\n",
    "    # taken from illumina interops package documentation, all of this is required, \n",
    "    # even though only the summary variable is used further on\n",
    "    run_metrics = py_interop_run_metrics.run_metrics()\n",
    "    valid_to_load = py_interop_run.uchar_vector(py_interop_run.MetricCount, 0)\n",
    "    py_interop_run_metrics.list_summary_metrics_to_load(valid_to_load)\n",
    "    run_folder = run_metrics.read(run_folder, valid_to_load)\n",
    "    summary = py_interop_summary.run_summary()\n",
    "    py_interop_summary.summarize_run_metrics(run_metrics, summary)\n",
    "    \n",
    "    print (dir(summary.at(0)))\n",
    "    \n",
    "    print (dir(summary.at(0).read()))\n",
    "\n",
    "    # parse data from interop files -- % reads over Q30, cluster density, clusters passing filter\n",
    "\n",
    "    # what does .at(0) do???\n",
    "    # get total reads\n",
    "    # seperate lanes?\n",
    "    \n",
    "    print (summary.total_summary().yield_g())\n",
    "\n",
    "    interop_dict[\"percent_q30\"] = round(summary.total_summary().percent_gt_q30(), 2)\n",
    "    interop_dict['total_yield'] = None\n",
    "    interop_dict[\"cluster_density\"] = round(summary.at(0).at(0).density().mean() / 1000, 2)\n",
    "    interop_dict[\"percent_pf\"] = round(summary.at(0).at(0).percent_pf().mean(), 2)\n",
    "    interop_dict[\"phasing\"] = round(summary.at(0).at(0).phasing().mean(), 2)\n",
    "    interop_dict[\"prephasing\"] = round(summary.at(3).at(0).prephasing().mean(), 2)\n",
    "    interop_dict[\"error_rate\"] = round(summary.total_summary().error_rate(), 2)\n",
    "    interop_dict[\"aligned\"] = round(summary.total_summary().percent_aligned(), 2)\n",
    "\n",
    "    # Doesnt throw specific type of error so catching all errors\n",
    "\n",
    "    return interop_dict"
   ]
  },
  {
   "cell_type": "code",
   "execution_count": 36,
   "metadata": {},
   "outputs": [
    {
     "name": "stdout",
     "output_type": "stream",
     "text": [
      "['__class__', '__del__', '__delattr__', '__dict__', '__dir__', '__doc__', '__eq__', '__format__', '__ge__', '__getattr__', '__getattribute__', '__gt__', '__hash__', '__init__', '__init_subclass__', '__le__', '__lt__', '__module__', '__ne__', '__new__', '__reduce__', '__reduce_ex__', '__repr__', '__setattr__', '__sizeof__', '__str__', '__subclasshook__', '__swig_destroy__', '__swig_getmethods__', '__swig_setmethods__', '__weakref__', 'at', 'lane_count', 'read', 'resize', 'size', 'summary', 'this']\n",
      "['__class__', '__del__', '__delattr__', '__dict__', '__dir__', '__doc__', '__eq__', '__format__', '__ge__', '__getattr__', '__getattribute__', '__gt__', '__hash__', '__init__', '__init_subclass__', '__le__', '__lt__', '__module__', '__ne__', '__new__', '__reduce__', '__reduce_ex__', '__repr__', '__setattr__', '__sizeof__', '__str__', '__subclasshook__', '__swig_destroy__', '__swig_getmethods__', '__swig_setmethods__', '__weakref__', '_s', 'empty', 'first_cycle', 'is_index', 'last_cycle', 'number', 'this', 'total_cycles', 'update', 'useable_cycles']\n",
      "8.085487365722656\n"
     ]
    },
    {
     "data": {
      "text/plain": [
       "{'percent_q30': 91.94,\n",
       " 'total_yield': None,\n",
       " 'cluster_density': 1219.24,\n",
       " 'percent_pf': 89.11,\n",
       " 'phasing': 0.12,\n",
       " 'prephasing': 0.1,\n",
       " 'error_rate': 0.58,\n",
       " 'aligned': 0.86}"
      ]
     },
     "execution_count": 36,
     "metadata": {},
     "output_type": "execute_result"
    }
   ],
   "source": [
    "parse_interop_data('data/archive/miseq/190520_M02641_0219_000000000-CGJT6/')"
   ]
  },
  {
   "cell_type": "code",
   "execution_count": null,
   "metadata": {},
   "outputs": [],
   "source": []
  }
 ],
 "metadata": {
  "kernelspec": {
   "display_name": "Python 3",
   "language": "python",
   "name": "python3"
  },
  "language_info": {
   "codemirror_mode": {
    "name": "ipython",
    "version": 3
   },
   "file_extension": ".py",
   "mimetype": "text/x-python",
   "name": "python",
   "nbconvert_exporter": "python",
   "pygments_lexer": "ipython3",
   "version": "3.6.7"
  }
 },
 "nbformat": 4,
 "nbformat_minor": 2
}
