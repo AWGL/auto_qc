{
 "cells": [
  {
   "cell_type": "code",
   "execution_count": 67,
   "metadata": {},
   "outputs": [],
   "source": [
    "from pysam import VariantFile"
   ]
  },
  {
   "cell_type": "code",
   "execution_count": 68,
   "metadata": {},
   "outputs": [],
   "source": [
    "vcf_path = '/media/joseph/Storage/data/results/190916_M00766_0252_000000000-CJMB5/AgilentOGTFH/190916_M00766_0252_000000000-CJMB5_filtered_annotated_roi.vcf'\n",
    "sample_ids = ['19M14076', '19M12481', '19M12638']"
   ]
  },
  {
   "cell_type": "code",
   "execution_count": 69,
   "metadata": {},
   "outputs": [],
   "source": [
    "bcf_in = VariantFile(vcf_path)\n",
    "\n",
    "count_dict = {}\n",
    "\n",
    "for rec in bcf_in.fetch():\n",
    "\n",
    "    chrom = rec.chrom\n",
    "    pos = rec.pos\n",
    "    ref = rec.ref\n",
    "    alt = rec.alts\n",
    "    filter_status = rec.filter.keys()\n",
    "    info = rec.info\n",
    "    quality = rec.qual\n",
    "    \n",
    "    for sample in sample_ids:\n",
    "    \n",
    "        sample_genotype_data = rec.samples[sample]\n",
    "\n",
    "        gt_list = []\n",
    "\n",
    "        for allele in sample_genotype_data['GT']:\n",
    "\n",
    "            if allele == None or allele == 0:\n",
    "\n",
    "                pass\n",
    "\n",
    "            else:\n",
    "\n",
    "                gt_list.append(allele)\n",
    "                \n",
    "        if 'PASS' in filter_status and len(gt_list) > 0:\n",
    "                        \n",
    "            if sample not in count_dict:\n",
    "                \n",
    "                count_dict[sample] = 0\n",
    "                \n",
    "            else:\n",
    "            \n",
    "                count_dict[sample] = count_dict[sample] + 1"
   ]
  },
  {
   "cell_type": "code",
   "execution_count": 70,
   "metadata": {},
   "outputs": [
    {
     "data": {
      "text/plain": [
       "{'19M14076': 65, '19M12481': 53, '19M12638': 52}"
      ]
     },
     "execution_count": 70,
     "metadata": {},
     "output_type": "execute_result"
    }
   ],
   "source": [
    "count_dict"
   ]
  },
  {
   "cell_type": "code",
   "execution_count": 71,
   "metadata": {},
   "outputs": [],
   "source": [
    "def get_passing_variant_count(vcf_path, samples):\n",
    "    \n",
    "    bcf_in = VariantFile(vcf_path)\n",
    "\n",
    "    count_dict = {}\n",
    "\n",
    "    for rec in bcf_in.fetch():\n",
    "\n",
    "        chrom = rec.chrom\n",
    "        pos = rec.pos\n",
    "        ref = rec.ref\n",
    "        alt = rec.alts\n",
    "        filter_status = rec.filter.keys()\n",
    "        info = rec.info\n",
    "        quality = rec.qual\n",
    "\n",
    "        for sample in sample_ids:\n",
    "\n",
    "            sample_genotype_data = rec.samples[sample]\n",
    "\n",
    "            gt_list = []\n",
    "\n",
    "            for allele in sample_genotype_data['GT']:\n",
    "\n",
    "                if allele == None or allele == 0:\n",
    "\n",
    "                    pass\n",
    "\n",
    "                else:\n",
    "\n",
    "                    gt_list.append(allele)\n",
    "\n",
    "            if 'PASS' in filter_status and len(gt_list) > 0:\n",
    "\n",
    "                if sample not in count_dict:\n",
    "\n",
    "                    count_dict[sample] = 0\n",
    "\n",
    "                else:\n",
    "\n",
    "                    count_dict[sample] = count_dict[sample] + 1\n",
    "                    \n",
    "    return count_dict"
   ]
  },
  {
   "cell_type": "code",
   "execution_count": null,
   "metadata": {},
   "outputs": [],
   "source": []
  }
 ],
 "metadata": {
  "kernelspec": {
   "display_name": "Python 3",
   "language": "python",
   "name": "python3"
  },
  "language_info": {
   "codemirror_mode": {
    "name": "ipython",
    "version": 3
   },
   "file_extension": ".py",
   "mimetype": "text/x-python",
   "name": "python",
   "nbconvert_exporter": "python",
   "pygments_lexer": "ipython3",
   "version": "3.6.7"
  }
 },
 "nbformat": 4,
 "nbformat_minor": 2
}
